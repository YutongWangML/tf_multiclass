{
 "cells": [
  {
   "cell_type": "markdown",
   "metadata": {},
   "source": [
    "## Overview\n",
    "\n",
    "This notebook is an introduction to the theory and implementation of **p**ermutation **e**quivariant and **r**elative **m**argin  (**PERM**) losses and **involution codes**, which are mathematical frameworks for multiclass classification."
   ]
  },
  {
   "cell_type": "markdown",
   "metadata": {},
   "source": [
    "### Multiclass classification\n",
    "\n",
    "We first review multiclass classification to set up notations.\n",
    "Let $k \\ge 2$ be an integer representing the number of classes and let $[k] = \\{1,\\dots, k\\}$.\n",
    "Let $d$ be a positive integer representing the number of features.\n",
    "Given a labelled training dataset $\\{(x_i,y_i) \\in \\mathbb{R}^d \\times [k]\\}_{i=1}^n$, we consider the problem of learning to classify a unseen unlabelled sample $x$ to a label $y \\in \\{1,\\dots, k\\}$, where $k \\ge 2$."
   ]
  },
  {
   "cell_type": "markdown",
   "metadata": {},
   "source": [
    "One of the most popular approach is *empirical risk minimization* of solving the minimization\n",
    "$$\n",
    "\\min_{f \\in \\mathcal{F}}\n",
    "\\quad\n",
    "\\mathtt{regularizer}(f)+\n",
    "\\sum_{i=1}^n L(y_i, f(x_i))\n",
    "$$\n",
    "where $L : [k] \\times \\mathbb{R}^k \\to \\mathbb{R}$ is a loss function and $\\mathcal{F} := \\{f : \\mathbb{R}^d \\to \\mathbb{R}^k\\}$ is a space of candidate functions."
   ]
  },
  {
   "cell_type": "markdown",
   "metadata": {},
   "source": [
    "### Cross entropy"
   ]
  },
  {
   "cell_type": "markdown",
   "metadata": {},
   "source": [
    "The **cross entropy** is possibly one of the most widely used losses. It is also a great example to motivate PERM losses."
   ]
  },
  {
   "cell_type": "markdown",
   "metadata": {},
   "source": [
    "To introduce it, let us simplify notation and drop the index $i$ on $x_i$ and $y_i$. Furthermore, let $v := f(x_i)$. So the loss value $L(y_i, f(x_i))$ will be simply written as $L(y,v)$. Let $p \\in \\mathbb{R}^k$ be the softmax transformation of $v$, i.e.,\n",
    "\n",
    "$$\n",
    "p_i = \\exp(v_i) \\big/ \\sum_{j=1}^k \\exp(v_j).\n",
    "$$"
   ]
  },
  {
   "cell_type": "markdown",
   "metadata": {},
   "source": [
    "Then \n",
    "$$L(y, v) = -\\ln(p_y) = \\ln(1/p_y)  = \\ln \\left( 1+\\sum_{j\\in[k]: j\\ne y} \\exp( - (v_y - v_j)) \\right).$$"
   ]
  },
  {
   "cell_type": "markdown",
   "metadata": {},
   "source": [
    "Sometimes, the vector $v$ is referred to as *logits*. We will refer to them as **absolute margins** (since we will introduce their close cousin, the **relative margins**)."
   ]
  },
  {
   "cell_type": "markdown",
   "metadata": {},
   "source": [
    "### PERM-ification of the cross entropy"
   ]
  },
  {
   "cell_type": "markdown",
   "metadata": {},
   "source": [
    "For now, let $y =k$. Then\n",
    "\n",
    "$$ L(k, v)  = \\ln \\left( 1+\\sum_{j\\in[k-1]} \\exp( - (v_k - v_j)) \\right). $$"
   ]
  },
  {
   "cell_type": "markdown",
   "metadata": {},
   "source": [
    "Define $z \\in \\mathbb{R}^k$ such that $z_j := v_k - v_j$. Then the above can simply be written as\n",
    "$$\n",
    "L(k, v)  = \\ln \\left( 1+\\sum_{j\\in[k-1]} \\exp( - z_j) \\right).\n",
    "$$"
   ]
  },
  {
   "cell_type": "markdown",
   "metadata": {},
   "source": [
    "Let us define the function $\\ell: \\mathbb{R}^{k-1} \\to \\mathbb{R}$ by \n",
    "$$\n",
    "\\ell(z) :=  \\ln \\left( 1+\\sum_{j\\in[k-1]} \\exp( - z_j) \\right).$$"
   ]
  },
  {
   "cell_type": "markdown",
   "metadata": {},
   "source": [
    "Then we have, by our definitions, that $\\ell(z) = L(k,v)$. The function $\\ell$ is the **PERM-ification** of the cross entropy (the terminology *PERM* will be explained shortly). Indeed, in our `losses.py`, we have\n",
    "\n",
    "```\n",
    "def cross_entropy(z):\n",
    "    # Cross Entropy implemented in the PERM loss framework\n",
    "    return K.log(1+K.sum(K.exp(-z),axis=1))\n",
    "```"
   ]
  },
  {
   "cell_type": "markdown",
   "metadata": {},
   "source": [
    "What about the values $L(y,v)$ where $y \\ne k$? Enter the **involution code**."
   ]
  },
  {
   "cell_type": "markdown",
   "metadata": {},
   "source": [
    "### Involution code"
   ]
  },
  {
   "cell_type": "markdown",
   "metadata": {},
   "source": [
    "Let $k$ be fixed. The involution code is the set of $k-1$-by-$k-1$ matrices $\\rho_1,\\dots, \\rho_k$ defined as follows:\n",
    "$\\rho_k$ is the identity matrix. For $1\\le j < k$,\n",
    "$$\n",
    "[\\rho_j]_{s,t \\in [k-1]} = \\begin{cases} -1 &: j=t \\\\ 1 &: s=t,\\, j\\ne t\\\\ 0 &: \\mbox{otherwise.} \\end{cases}\n",
    "$$"
   ]
  },
  {
   "cell_type": "markdown",
   "metadata": {},
   "source": [
    "For example, when $k=4$, we have\n",
    "$$\n",
    "\\rho_1 = \\begin{bmatrix} -1 & 0 & 0 \\\\ -1 & 1 & 0 \\\\ -1 & 0 & 1\\end{bmatrix} , \\quad \\rho_2 = \\begin{bmatrix} 1 & -1 & 0 \\\\ 0 & -1 & 0 \\\\ 0 & -1 & 1\\end{bmatrix} , \\quad \\rho_3 = \\begin{bmatrix} 1 & 0 & -1 \\\\ 0 & 1 & -1 \\\\ 0 & 0 & -1\\end{bmatrix} , \\quad \\rho_4 = \\mathtt{eye}(3)\n",
    "$$"
   ]
  },
  {
   "cell_type": "markdown",
   "metadata": {},
   "source": [
    "One can easily check that \n",
    "$$\n",
    "\\ell(\\rho_y z) = L(y,v)\n",
    "$$\n",
    "when $L$ is the cross entropy."
   ]
  },
  {
   "cell_type": "markdown",
   "metadata": {},
   "source": [
    "To summarize, we have the following **proto-Theorem**: the function $L : [k] \\times \\mathbb{R}^k \\to \\mathbb{R}$ can be equivalently represented by a smaller function $\\ell : \\mathbb{R}^{k-1} \\to \\mathbb{R}$ and the involution code $\\{\\rho_1,\\dots, \\rho_k\\}$."
   ]
  },
  {
   "cell_type": "markdown",
   "metadata": {},
   "source": [
    "### Permutation equivariant and relative margin loss"
   ]
  },
  {
   "cell_type": "markdown",
   "metadata": {},
   "source": [
    "Now, we consider an arbitrary multiclass loss $L : [k] \\times \\mathbb{R}^k \\to \\mathbb{R}$ (not just the cross entropy). The loss is said to be\n",
    "\n",
    "1. **permutation equivariant** if for all bijections $\\sigma : [k] \\to [k]$, we have $L(\\sigma(y), v) = L(y,\\sigma(v))$\n",
    "2. **relative margin**-based if the loss value $L(y,v)$ depends on $v$ only through $z = (v_k - v_1, v_k - v_2,\\dots, v_k - v_{k-1})^\\top$.\n",
    "\n",
    "We now arrive at our theorem:\n",
    "\n",
    "┌────────────────────\n",
    "\n",
    "  **Theorem**: If a loss $L$ is permutation equivariant and relative margin-based (i.e., a PERM loss), then $L$ can be represented by some $\\ell : \\mathbb{R}^{k-1} \\to \\mathbb{R}$ where\n",
    "$$\\ell(\\rho_y z) = L(y,v).$$\n",
    "\n",
    "<div style=\"float: right\"> ────────────────────┘</div> \n"
   ]
  },
  {
   "cell_type": "markdown",
   "metadata": {},
   "source": [
    "Other examples of PERM losses are the [Weston-Watkins](http://citeseerx.ist.psu.edu/viewdoc/summary?doi=10.1.1.43.8167), [Crammer-Singer](https://jmlr.csail.mit.edu/papers/volume2/crammer01a/crammer01a.pdf) and [Duchi-Ruan-Khosravi](https://projecteuclid.org/journals/annals-of-statistics/volume-46/issue-6B/Multiclass-classification-information-divergence-and-surrogate-risk/10.1214/17-AOS1657.full) hinge losses."
   ]
  },
  {
   "cell_type": "markdown",
   "metadata": {},
   "source": [
    "The Weston-Watkins hinge loss:\n",
    "\n",
    "$$\n",
    "L_{WW}(y,v) = \\sum_{j \\in [k]: j \\ne y} \\mathtt{hinge}(v_y - v_j)\n",
    "$$\n",
    "and its corresponding $\\ell$ function\n",
    "$$\n",
    "\\ell_{WW}(z) = \\sum_{j \\in [k-1]} \\mathtt{hinge}(z_j).\n",
    "$$\n",
    "Here $\\mathtt{hinge}(t) = \\max\\{0, 1- t\\}$ is the ordinary hinge function. The Crammer-Singer hinge loss is similar, where the $\\sum$ is replaced by a $\\max$."
   ]
  },
  {
   "cell_type": "markdown",
   "metadata": {},
   "source": [
    "The Duchi-Ruan-Khosravi hinge loss is more complicated and will not be discussed here."
   ]
  },
  {
   "cell_type": "markdown",
   "metadata": {},
   "source": [
    "### Binary classification and PERM losses"
   ]
  },
  {
   "cell_type": "markdown",
   "metadata": {},
   "source": [
    "PERM losses and involution code seamlessly bridges binary and multiclass classification.\n",
    "Note that when $k=2$, the involution code is simply \n",
    "$$\\rho_1 = -1 \\mbox{ and } \\rho_2 = 1$$"
   ]
  },
  {
   "cell_type": "markdown",
   "metadata": {},
   "source": [
    "The $\\ell : \\mathbb{R} \\to \\mathbb{R}$ function corresponding to the cross entropy reduces to simply\n",
    "$$\n",
    "\\ell(z) = \\ln(1+ \\exp(-z)).\n",
    "$$"
   ]
  },
  {
   "cell_type": "markdown",
   "metadata": {},
   "source": [
    "The Weston-Watkins and Crammer-Singer hinge losses both reduce to just\n",
    "$$\n",
    "\\ell_{WW}(z) = \\ell_{CS}(z) = \\mathtt{hinge}(z).\n",
    "$$"
   ]
  },
  {
   "cell_type": "markdown",
   "metadata": {},
   "source": [
    "As a sanity check, we check if our implementation does reflect this:"
   ]
  },
  {
   "cell_type": "code",
   "execution_count": 115,
   "metadata": {},
   "outputs": [],
   "source": [
    "import sys\n",
    "import os\n",
    "sys.path.insert(1, os.path.join(sys.path[0], '../..'))"
   ]
  },
  {
   "cell_type": "code",
   "execution_count": 116,
   "metadata": {},
   "outputs": [],
   "source": [
    "import tf_multiclass.losses as losses\n",
    "import tf_multiclass.utils as utils\n",
    "import tf_multiclass.metrics as metrics\n",
    "import keras.backend as K\n",
    "import tensorflow as tf\n",
    "import numpy as np\n",
    "from tf_multiclass.utils import to_t_categorical\n",
    "import matplotlib.pyplot as plt"
   ]
  },
  {
   "cell_type": "code",
   "execution_count": 117,
   "metadata": {},
   "outputs": [],
   "source": [
    "y_pred = tf.expand_dims(tf.linspace(-3.0,3.0,100),axis=-1)\n",
    "y_true = to_t_categorical(np.ones((100,1)), num_classes=2)"
   ]
  },
  {
   "cell_type": "code",
   "execution_count": 118,
   "metadata": {},
   "outputs": [],
   "source": [
    "ww = losses.WWHinge(reduction='none')(y_true,y_pred)\n",
    "dkr = losses.DKRHinge(reduction='none')(y_true,y_pred)\n",
    "ce = losses.CrossEntropy(reduction='none')(y_true,y_pred)"
   ]
  },
  {
   "cell_type": "code",
   "execution_count": 119,
   "metadata": {},
   "outputs": [
    {
     "data": {
      "image/png": "[encoded data removed]",
      "text/plain": [
       "<Figure size 640x480 with 1 Axes>"
      ]
     },
     "metadata": {},
     "output_type": "display_data"
    }
   ],
   "source": [
    "z = y_pred.numpy().squeeze()\n",
    "plt.plot(z, ww.numpy(), \"k:\")\n",
    "plt.plot(z, dkr.numpy(), \"k--\")\n",
    "plt.plot(z, ce.numpy(), '-.k')\n",
    "plt.plot(z, np.log(1+np.exp(-z)), \"-.k\")\n",
    "plt.plot(z, np.maximum(0,1- z), 'k:')\n",
    "plt.legend(['WW Hinge', 'DKR Hinge', 'Logistic'])\n",
    "plt.show()"
   ]
  },
  {
   "cell_type": "markdown",
   "metadata": {},
   "source": [
    "Note that the dotted (WW hinge) and the dot-dash (logistic) lines are each plotted twice but only appears once, indicating that they overlap perfectly. Thus, our implementation agrees with the theory."
   ]
  },
  {
   "cell_type": "markdown",
   "metadata": {},
   "source": [
    "### Computational issues"
   ]
  },
  {
   "cell_type": "markdown",
   "metadata": {},
   "source": [
    "It appears that computing $\\rho_y z$ requires a matrix-vector multiplication.\n",
    "This could potentially be expensive when $k$ is large.\n",
    "One approach to circumvent this might be to store $\\rho_y$ as sparse matrices.\n",
    "But there is an even easier approach, which we now demonstrate through an example."
   ]
  },
  {
   "cell_type": "markdown",
   "metadata": {},
   "source": [
    "When $k = 5$ and $y = 2$, we have\n",
    "$$ \n",
    "\\rho_2 = \\begin{bmatrix} 1 &-1 & 0 & 0\\\\ 0 &-1 & 0 & 0\\\\ 0 &-1 & 1 & 0\\\\ 0 &-1 & 0 & 1\\\\ \\end{bmatrix}$$"
   ]
  },
  {
   "cell_type": "markdown",
   "metadata": {},
   "source": [
    "This can be rewritten as\n",
    "$$ \n",
    "\\rho_2= \\begin{bmatrix} 1 &-1 & 0 & 0\\\\ 0 &-1 & 0 & 0\\\\ 0 &-1 & 1 & 0\\\\ 0 &-1 & 0 & 1\\\\ \\end{bmatrix} = \\begin{bmatrix} 1 &0 & 0 & 0\\\\ 0 &1 & 0 & 0\\\\ 0 &0 & 1 & 0\\\\ 0 &0 & 0 & 1\\\\ \\end{bmatrix} - \\begin{bmatrix} 0 &0 & 0 & 0\\\\ 0 &1 & 0 & 0\\\\ 0 &0 & 0 & 0\\\\ 0 &0 & 0 & 0\\\\ \\end{bmatrix} - \\begin{bmatrix} 0 &1 & 0 & 0\\\\ 0 &1 & 0 & 0\\\\ 0 &1 & 0 & 0\\\\ 0 &1 & 0 & 0\\\\ \\end{bmatrix}\n",
    "$$"
   ]
  },
  {
   "cell_type": "markdown",
   "metadata": {},
   "source": [
    "Thus, \n",
    "$$ \\rho_2 z = z - \\begin{bmatrix} z_2 \\\\ z_2 \\\\ z_2 \\\\ z_2 \\end{bmatrix} - \\begin{bmatrix} 0\\\\z_2 \\\\ 0 \\\\ 0\\end{bmatrix}$$"
   ]
  },
  {
   "cell_type": "markdown",
   "metadata": {},
   "source": [
    "We now take a brief detour to introduce the **trimmed categorical** label encoding, a variation on the more popular *ordinary* categorical label encoding."
   ]
  },
  {
   "cell_type": "markdown",
   "metadata": {},
   "source": [
    "The ordinary categorical label encoding is also known as the *one-hot* encoding. The trimmed categorical encoding is simply the one-hot encoding where the last entry is omitted. For example, when $k=5$ and $y=2$, \n",
    "\n",
    "$$\n",
    "\\mathtt{to\\_categorical}(2) = \\begin{bmatrix} 0 & 1 & 0 &0 &0\\end{bmatrix}^\\top , \\quad \\mathtt{to\\_trimmed\\_categorical}(2) = \\begin{bmatrix} 0 & 1 & 0 &0\\end{bmatrix}^\\top.\n",
    "$$\n",
    "\n",
    "The latter is implemented in `tf_multiclass.utils.to_t_categorical`."
   ]
  },
  {
   "cell_type": "code",
   "execution_count": 120,
   "metadata": {},
   "outputs": [
    {
     "data": {
      "text/plain": [
       "array([[0., 1., 0., 0.]], dtype=float32)"
      ]
     },
     "execution_count": 120,
     "metadata": {},
     "output_type": "execute_result"
    }
   ],
   "source": [
    "utils.to_t_categorical([[1]], num_classes=5)"
   ]
  },
  {
   "cell_type": "markdown",
   "metadata": {},
   "source": [
    "Note that by this definition, we have the seemingly odd situation that\n",
    "\n",
    "$$\n",
    "\\mathtt{to\\_categorical}(5) = \\begin{bmatrix} 0 & 0 & 0 &0 &1\\end{bmatrix}^\\top , \\quad \\mathtt{to\\_trimmed\\_categorical}(5) = \\begin{bmatrix} 0 & 0 & 0 &0\\end{bmatrix}^\\top.\n",
    "$$\n",
    "\n",
    "However, this is a feature, not a bug! This is because we now have the useful formula\n",
    "\n",
    "$$\\rho_y z = z - \\mathtt{sum}(C) * \\mathtt{ones} - C, \\quad \\mbox{ where }  C = z_y * \\mathtt{to\\_trimmed\\_categorical}(y)$$\n",
    "\n",
    "and $\\mathtt{ones}$ is the all-ones vector of dimension $k-1$. \n",
    "Crucially, the above formula recovers $\\rho_k z = z$."
   ]
  },
  {
   "cell_type": "markdown",
   "metadata": {},
   "source": [
    "The above formula is used by `tf_multiclass.losses.get_relative_margins` to compute $\\rho_y z$."
   ]
  },
  {
   "cell_type": "markdown",
   "metadata": {},
   "source": [
    "Note that the inverse function $\\mathtt{from\\_trimmed\\_categorical}$ can be implemented as\n",
    "\n",
    "$$\n",
    "y_{tcat} \\mapsto \\mathrm{argmax} ([y_{tcat}, 0.5])\n",
    "$$\n",
    "\n",
    "where $y_{tcat}$ is a trimmed categorical encoded label and $[y_{tcat}, 0.5]$ denotes padding by the constant $0.5$. This is implemented in `tf_multiclass.utils.from_t_categorical`."
   ]
  },
  {
   "cell_type": "code",
   "execution_count": 121,
   "metadata": {},
   "outputs": [
    {
     "data": {
      "text/plain": [
       "<tf.Tensor: shape=(5,), dtype=float32, numpy=array([0., 1., 2., 3., 4.], dtype=float32)>"
      ]
     },
     "execution_count": 121,
     "metadata": {},
     "output_type": "execute_result"
    }
   ],
   "source": [
    "y_raw = [[i] for i in range(5)]\n",
    "y_enc = utils.to_t_categorical(y_raw, num_classes=5)\n",
    "utils.from_t_categorical(y_enc)"
   ]
  },
  {
   "cell_type": "markdown",
   "metadata": {},
   "source": [
    "### Prediction function using relative margins\n",
    "\n",
    "The prediction function with absolute margin is easy: it is simply $\\mathrm{argmax}(v)$.\n",
    "Now, recall that $z = [v_k - v_1, v_k - v_2,\\dots, v_{k} - v_{k-1}]$.\n",
    "Thus, if we pad $z$ with zero, we have\n",
    "$$\n",
    "[z,0] = [v_k - v_1, v_k - v_2,\\dots, v_{k} - v_{k-1},0] = -v + v_k * \\mathtt{ones}. $$\n",
    "Thus, $\\mathrm{argmax}(v) = \\mathrm{argmin}([z,0])$ and the analog to the argmax is\n",
    "\n",
    "$$\n",
    "z \\mapsto \\mathrm{argmin}([z,0])\n",
    "$$\n",
    "\n",
    "This is implemented in `tf_multiclass.utils.predict_classes_from_r_margin`."
   ]
  },
  {
   "cell_type": "code",
   "execution_count": 123,
   "metadata": {},
   "outputs": [
    {
     "name": "stdout",
     "output_type": "stream",
     "text": [
      "v = [[0.57523596 0.80402887 0.88161504 0.8814769  0.9216168 ]\n",
      " [0.07152212 0.78531957 0.9620981  0.11778855 0.69208217]]\n",
      "argmax v = [4 2]\n",
      "z = [[ 0.34638083  0.11758792  0.04000175  0.04013991]\n",
      " [ 0.62056005 -0.0932374  -0.27001595  0.5742936 ]]\n",
      "pred(z) = [4. 2.]\n"
     ]
    }
   ],
   "source": [
    "v = tf.random.uniform((2,5))\n",
    "print(\"v =\", v.numpy())\n",
    "print(\"argmax v =\", tf.argmax(v,axis=-1).numpy())\n",
    "# z = v[0,-1] - v[0,:-1]\n",
    "z = tf.expand_dims(v[:,-1],axis=-1) - v[:,:-1]\n",
    "\n",
    "print(\"z =\",z.numpy())\n",
    "print(\"pred(z) =\", utils.predict_classes_from_r_margin(z).numpy())"
   ]
  }
 ],
 "metadata": {
  "kernelspec": {
   "display_name": "Python 3",
   "language": "python",
   "name": "python3"
  },
  "language_info": {
   "codemirror_mode": {
    "name": "ipython",
    "version": 3
   },
   "file_extension": ".py",
   "mimetype": "text/x-python",
   "name": "python",
   "nbconvert_exporter": "python",
   "pygments_lexer": "ipython3",
   "version": "3.8.8"
  }
 },
 "nbformat": 4,
 "nbformat_minor": 4
}
