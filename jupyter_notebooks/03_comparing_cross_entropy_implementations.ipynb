{
 "cells": [
  {
   "cell_type": "markdown",
   "metadata": {},
   "source": [
    "### Overview\n",
    "\n",
    "This jupyter notebook compares the two implementations of cross entropy:\n",
    "\n",
    "1. The standard TensorFlow implementation in `tf.keras.losses.CategoricalCrossentropy(from_logits=True)` \n",
    "2. And our own PERM loss-theoretic implementation `tf_multiclass.losses.CrossEntropy()`\n",
    "\n",
    "We will see with an example that these two implementations are identical for training a logistic regression model on the Iris dataset."
   ]
  },
  {
   "cell_type": "code",
   "execution_count": 18,
   "metadata": {},
   "outputs": [],
   "source": [
    "import sys\n",
    "import os\n",
    "sys.path.insert(1, os.path.join(sys.path[0], '../..'))\n",
    "# the point of this is to view the parent directory from the \"outside\""
   ]
  },
  {
   "cell_type": "code",
   "execution_count": 19,
   "metadata": {},
   "outputs": [],
   "source": [
    "import numpy as np\n",
    "import keras\n",
    "from tensorflow.keras import layers\n",
    "from tensorflow.keras import regularizers\n",
    "\n",
    "import tensorflow as tf\n",
    "\n",
    "from sklearn.datasets import load_iris\n",
    "from sklearn.preprocessing import StandardScaler\n",
    "\n",
    "import matplotlib.pyplot as plt\n",
    "from matplotlib.pyplot import figure\n",
    "\n",
    "from keras.utils import to_categorical\n",
    "\n",
    "import tf_multiclass.utils as utils\n",
    "import tf_multiclass.losses as losses\n",
    "import tf_multiclass.metrics as metrics\n",
    "\n",
    "import time"
   ]
  },
  {
   "cell_type": "markdown",
   "metadata": {},
   "source": [
    "### Load the Iris dataset"
   ]
  },
  {
   "cell_type": "code",
   "execution_count": 20,
   "metadata": {},
   "outputs": [],
   "source": [
    "X,y = load_iris(return_X_y=True)\n",
    "scaler = StandardScaler().fit(X)\n",
    "X = scaler.transform(X)\n",
    "y_cat = to_categorical(y)\n",
    "y_t_cat = utils.to_t_categorical(y)\n",
    "num_classes = len(np.unique(y))"
   ]
  },
  {
   "cell_type": "markdown",
   "metadata": {},
   "source": [
    "### Define and train the models"
   ]
  },
  {
   "cell_type": "code",
   "execution_count": 21,
   "metadata": {},
   "outputs": [
    {
     "name": "stdout",
     "output_type": "stream",
     "text": [
      "Time for the original CE:\t 1.2989491475746036\n",
      "Time for the PERM CE:\t\t 1.382823991123587\n"
     ]
    }
   ],
   "source": [
    "C = 1e2\n",
    "optimizer = keras.optimizers.SGD(learning_rate=1e-1)\n",
    "batch_size = X.shape[0]\n",
    "\n",
    "def get_LR_model_ORIG_CE():\n",
    "    gamma = 1/(2*C*X.shape[0])\n",
    "    batch_size = X.shape[0]\n",
    "    initializer = tf.keras.initializers.Zeros()\n",
    "\n",
    "    inputs = keras.Input(shape=(X.shape[1],), name=\"features_in\")\n",
    "    logits = layers.Dense(num_classes,\n",
    "                          activation = \"linear\",\n",
    "                          kernel_regularizer=regularizers.l2(gamma),\n",
    "                          kernel_initializer=initializer,\n",
    "                          use_bias=False)(inputs)\n",
    "\n",
    "    model = keras.Model(inputs=inputs, outputs=logits)\n",
    "\n",
    "    loss = tf.keras.losses.CategoricalCrossentropy(from_logits=True)\n",
    "    accuracy = tf.keras.metrics.CategoricalAccuracy()\n",
    "    model.compile(loss=loss, \n",
    "                  optimizer=optimizer, \n",
    "                  metrics=[accuracy])\n",
    "    return model\n",
    "\n",
    "def get_LR_model_PERM(PERM_loss):\n",
    "    gamma = 1/(2*C*X.shape[0])\n",
    "    batch_size = X.shape[0]\n",
    "    initializer = tf.keras.initializers.Zeros()\n",
    "\n",
    "    inputs = keras.Input(shape=(X.shape[1],), name=\"features_in\")\n",
    "    scores = layers.Dense(num_classes,\n",
    "                          activation = \"linear\",\n",
    "                          kernel_regularizer=regularizers.l2(gamma),\n",
    "                          kernel_initializer=initializer,\n",
    "                          use_bias=False)(inputs)\n",
    "    \n",
    "    # Additional operation is needed to convert the margins to relative margins\n",
    "    outputs = tf.expand_dims(scores[:,-1],axis=-1) - scores[:,:-1]\n",
    "\n",
    "    model = keras.Model(inputs=inputs, outputs=outputs)\n",
    "    optimizer = keras.optimizers.SGD(learning_rate=1e-1)\n",
    "    model.compile(loss=PERM_loss, optimizer=optimizer, metrics=[metrics.RMarginAccuracy()])\n",
    "    return model\n",
    "\n",
    "model_ORIG_CE = get_LR_model_ORIG_CE()\n",
    "model_PERM_CE = get_LR_model_PERM(losses.CrossEntropy())\n",
    "model_PERM_WW = get_LR_model_PERM(losses.WWHinge())\n",
    "\n",
    "epochs = 1000\n",
    "start = time.perf_counter()\n",
    "hist_ORIG_CE = model_ORIG_CE.fit(X,\n",
    "                            y_cat,\n",
    "                            epochs=epochs,\n",
    "                            batch_size=batch_size,\n",
    "                            verbose=0)\n",
    "time_ORIG_CE = time.perf_counter() - start\n",
    "\n",
    "start = time.perf_counter()\n",
    "hist_PERM_CE = model_PERM_CE.fit(X,\n",
    "                            y_t_cat,\n",
    "                            epochs=epochs,\n",
    "                            batch_size=batch_size,\n",
    "                            verbose=0)\n",
    "time_PERM_CE = time.perf_counter() - start\n",
    "\n",
    "hist_PERM_WW = model_PERM_WW.fit(X,\n",
    "                            y_t_cat,\n",
    "                            epochs=epochs,\n",
    "                            batch_size=batch_size,\n",
    "                            verbose=0)\n",
    "\n",
    "print(\"Time for the original CE:\\t %s\" % str(time_ORIG_CE))\n",
    "print(\"Time for the PERM CE:\\t\\t %s\" % str(time_PERM_CE))"
   ]
  },
  {
   "cell_type": "markdown",
   "metadata": {},
   "source": [
    "Note that the **model trained with PERM CE is a bit slower**. This may be due to the additional operations in the model of converting absolute margins to relative margins. See `get_LR_model_PERM`."
   ]
  },
  {
   "cell_type": "markdown",
   "metadata": {},
   "source": [
    "### Loss comparison"
   ]
  },
  {
   "cell_type": "code",
   "execution_count": 24,
   "metadata": {},
   "outputs": [
    {
     "data": {
      "image/png": "[encoded data removed]",
      "text/plain": [
       "<Figure size 640x480 with 1 Axes>"
      ]
     },
     "metadata": {},
     "output_type": "display_data"
    }
   ],
   "source": [
    "import matplotlib.pyplot as plt\n",
    "plt.plot(hist_ORIG_CE.history['loss'], \"k:\",lw=4)\n",
    "plt.plot(hist_PERM_CE.history['loss'], \"k--\",lw=2)\n",
    "plt.plot(hist_PERM_WW.history['loss'], \"k\",lw=1,alpha=0.5)\n",
    "plt.legend([\"Original CE\", \"PERM CE\", \"PERM WW\"])\n",
    "plt.ylim((0,1))\n",
    "plt.show()"
   ]
  },
  {
   "cell_type": "markdown",
   "metadata": {},
   "source": [
    "From this graph, we see that the loss of the model trained with the original CE and with the PERM CE are identical. \n",
    "\n",
    "As a negative control and sanity check, note that the loss is different for PERM WW."
   ]
  }
 ],
 "metadata": {
  "kernelspec": {
   "display_name": "Python 3",
   "language": "python",
   "name": "python3"
  },
  "language_info": {
   "codemirror_mode": {
    "name": "ipython",
    "version": 3
   },
   "file_extension": ".py",
   "mimetype": "text/x-python",
   "name": "python",
   "nbconvert_exporter": "python",
   "pygments_lexer": "ipython3",
   "version": "3.8.3"
  }
 },
 "nbformat": 4,
 "nbformat_minor": 4
}
