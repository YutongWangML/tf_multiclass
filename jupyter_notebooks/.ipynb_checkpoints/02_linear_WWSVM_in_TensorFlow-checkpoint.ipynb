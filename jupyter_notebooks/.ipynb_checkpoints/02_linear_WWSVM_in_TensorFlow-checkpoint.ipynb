{
 "cells": [
  {
   "cell_type": "code",
   "execution_count": 537,
   "metadata": {},
   "outputs": [],
   "source": [
    "import sys\n",
    "import os\n",
    "sys.path.insert(1, os.path.join(sys.path[0], '..'))"
   ]
  },
  {
   "cell_type": "code",
   "execution_count": 538,
   "metadata": {},
   "outputs": [],
   "source": [
    "import numpy as np\n",
    "import keras\n",
    "from tensorflow.keras import layers\n",
    "from tensorflow.keras import regularizers\n",
    "\n",
    "import tensorflow as tf\n",
    "\n",
    "from sklearn.datasets import load_iris\n",
    "from sklearn.preprocessing import StandardScaler\n",
    "\n",
    "import matplotlib.pyplot as plt\n",
    "from matplotlib.pyplot import figure\n",
    "\n",
    "import losses\n",
    "import metrics\n",
    "import utils\n",
    "\n",
    "from wwsvm import WWSVM"
   ]
  },
  {
   "cell_type": "code",
   "execution_count": null,
   "metadata": {},
   "outputs": [],
   "source": [
    "# Load the Iris dataset"
   ]
  },
  {
   "cell_type": "code",
   "execution_count": 539,
   "metadata": {},
   "outputs": [],
   "source": [
    "X,y_orig = load_iris(return_X_y=True)\n",
    "num_classes = len(np.unique(y_orig))\n",
    "y = utils.to_t_categorical(y_orig) # convert the digital labels to trimmed categorical labels\n",
    "scaler = StandardScaler().fit(X)\n",
    "X = scaler.transform(X)"
   ]
  },
  {
   "cell_type": "code",
   "execution_count": 540,
   "metadata": {},
   "outputs": [
    {
     "name": "stdout",
     "output_type": "stream",
     "text": [
      "# features: 4\n",
      "# classes: 3\n"
     ]
    }
   ],
   "source": [
    "print(\"# features:\", X.shape[1])\n",
    "print(\"# classes:\", num_classes)"
   ]
  },
  {
   "cell_type": "code",
   "execution_count": null,
   "metadata": {},
   "outputs": [],
   "source": [
    "# Train WW SVM on Iris using CVXPY"
   ]
  },
  {
   "cell_type": "code",
   "execution_count": null,
   "metadata": {},
   "outputs": [],
   "source": []
  },
  {
   "cell_type": "code",
   "execution_count": 546,
   "metadata": {},
   "outputs": [
    {
     "data": {
      "text/plain": [
       "30.13102032056637"
      ]
     },
     "execution_count": 546,
     "metadata": {},
     "output_type": "execute_result"
    }
   ],
   "source": [
    "C = 2**-1\n",
    "clf = WWSVM(C = C)\n",
    "clf.fit(X,y_orig, method = 'cvxpy')\n",
    "wwsvm_opt_exact = clf.dual_objective_exact\n",
    "wwsvm_opt_exact"
   ]
  },
  {
   "cell_type": "markdown",
   "metadata": {},
   "source": [
    "The `WWSVM` solver optimizes the objective\n",
    "$$\n",
    "\\frac{1}{2} \\|w\\|_F^2 + C \\sum_{i=1}^n \\sum_{j=1: j \\ne y_i}^k\\mathtt{hinge}( (w_j - w_{y_i})^\\top x_i)\n",
    "$$"
   ]
  },
  {
   "cell_type": "code",
   "execution_count": null,
   "metadata": {},
   "outputs": [],
   "source": [
    "# Train WW SVM on Iris using TensorFlow"
   ]
  },
  {
   "cell_type": "code",
   "execution_count": 542,
   "metadata": {},
   "outputs": [],
   "source": [
    "batch_size = X.shape[0]\n",
    "# batch_size = 20\n",
    "\n",
    "initializer = tf.keras.initializers.Zeros()\n",
    "\n",
    "inputs = keras.Input(shape=(X.shape[1],), name=\"features_in\")\n",
    "scores = layers.Dense(num_classes,\n",
    "                      activation = \"linear\",\n",
    "                      kernel_regularizer=regularizers.l2(1/(2*C*X.shape[0])),\n",
    "                      kernel_initializer=initializer,\n",
    "                      use_bias=False)(inputs)\n",
    "outputs = tf.expand_dims(scores[:,-1],axis=-1) - scores[:,:-1]\n",
    "\n",
    "model = keras.Model(inputs=inputs, outputs=outputs)\n",
    "optimizer = keras.optimizers.SGD(learning_rate=1e-1)\n",
    "model.compile(loss=losses.WWHinge(), optimizer=optimizer, metrics=[metrics.RMarginAccuracy()])\n",
    "\n",
    "history = model.fit(X,y,epochs=400,batch_size=batch_size,verbose=0)"
   ]
  },
  {
   "cell_type": "code",
   "execution_count": 543,
   "metadata": {},
   "outputs": [
    {
     "data": {
      "text/plain": [
       "30.16490489244461"
      ]
     },
     "execution_count": 543,
     "metadata": {},
     "output_type": "execute_result"
    }
   ],
   "source": [
    "wwsvm_opt_approx = C*X.shape[0]*history.history['loss'][-1]\n",
    "wwsvm_opt_approx"
   ]
  },
  {
   "cell_type": "code",
   "execution_count": null,
   "metadata": {},
   "outputs": [],
   "source": [
    "# Plot results"
   ]
  },
  {
   "cell_type": "code",
   "execution_count": 544,
   "metadata": {},
   "outputs": [
    {
     "data": {
      "image/png": "[encoded data removed]",
      "text/plain": [
       "<Figure size 480x160 with 2 Axes>"
      ]
     },
     "metadata": {},
     "output_type": "display_data"
    }
   ],
   "source": [
    "fig, (ax1, ax2) = plt.subplots(1, 2,figsize=(6,2),dpi=80)\n",
    "\n",
    "ax1.set_title('Loss')\n",
    "ax1.axhline(wwsvm_opt_exact/(C*X.shape[0]),color=\"k\",linestyle=\":\")\n",
    "ax1.plot(history.history['loss'])\n",
    "ax1.set_ylim((0,max(history.history['loss'])))\n",
    "ax1.legend(['exact','approx'])\n",
    "\n",
    "ax2.plot(history.history['accuracy'])\n",
    "ax2.set_title('Accuracy')\n",
    "ax2.set_ylim((0,1))\n",
    "\n",
    "plt.show()"
   ]
  },
  {
   "cell_type": "code",
   "execution_count": 545,
   "metadata": {},
   "outputs": [
    {
     "name": "stdout",
     "output_type": "stream",
     "text": [
      "Final (training) accuracy: 85.33\n"
     ]
    }
   ],
   "source": [
    "print(\"Final (training) accuracy:\",round(100*history.history['accuracy'][-1],2))"
   ]
  }
 ],
 "metadata": {
  "kernelspec": {
   "display_name": "Python 3",
   "language": "python",
   "name": "python3"
  },
  "language_info": {
   "codemirror_mode": {
    "name": "ipython",
    "version": 3
   },
   "file_extension": ".py",
   "mimetype": "text/x-python",
   "name": "python",
   "nbconvert_exporter": "python",
   "pygments_lexer": "ipython3",
   "version": "3.8.3"
  }
 },
 "nbformat": 4,
 "nbformat_minor": 4
}
